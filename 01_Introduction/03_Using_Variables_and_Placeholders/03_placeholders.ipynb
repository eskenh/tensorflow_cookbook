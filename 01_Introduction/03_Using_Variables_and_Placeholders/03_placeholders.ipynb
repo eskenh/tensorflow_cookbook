{
 "cells": [
  {
   "cell_type": "markdown",
   "metadata": {},
   "source": [
    "# Placeholders\n",
    "\n",
    "We introduce how to use placeholders in TensorFlow.\n",
    "\n",
    "First we import the necessary libraries and reset the graph session."
   ]
  },
  {
   "cell_type": "code",
   "execution_count": 18,
   "metadata": {},
   "outputs": [],
   "source": [
    "import numpy as np\n",
    "import tensorflow as tf\n",
    "from tensorflow.python.framework import ops\n",
    "ops.reset_default_graph()"
   ]
  },
  {
   "cell_type": "markdown",
   "metadata": {},
   "source": [
    "Start graph session"
   ]
  },
  {
   "cell_type": "code",
   "execution_count": 19,
   "metadata": {},
   "outputs": [],
   "source": [
    "sess = tf.Session()"
   ]
  },
  {
   "cell_type": "markdown",
   "metadata": {},
   "source": [
    "### Declare a placeholder\n",
    "\n",
    "We declare a placeholder by using TensorFlow's function, `tf.placeholder()`, which accepts a data-type argument (`tf.float32`) and a shape argument, `(4,4)`.  Note that the shape can be a tuple or a list, `[4,4]`."
   ]
  },
  {
   "cell_type": "code",
   "execution_count": 20,
   "metadata": {},
   "outputs": [],
   "source": [
    "x = tf.placeholder(tf.float32, shape=(4, 4))"
   ]
  },
  {
   "cell_type": "markdown",
   "metadata": {},
   "source": [
    "For illustration on how to use the placeholder, we create input data for it and an operation we can visualize on Tensorboard.\n",
    "\n",
    "Note the useage of `feed_dict`, where we feed in the value of x into the computational graph."
   ]
  },
  {
   "cell_type": "code",
   "execution_count": 21,
   "metadata": {},
   "outputs": [
    {
     "name": "stdout",
     "output_type": "stream",
     "text": [
      "[[0.2361806  0.85587764 0.6351163  0.72347784]\n",
      " [0.39380753 0.00333444 0.81094366 0.9022676 ]\n",
      " [0.01497541 0.04079194 0.38311222 0.20386535]\n",
      " [0.19170153 0.20579873 0.31496945 0.9608538 ]]\n"
     ]
    }
   ],
   "source": [
    "# Input data to placeholder, note that 'rand_array' and 'x' are the same shape.\n",
    "rand_array = np.random.rand(4, 4)\n",
    "\n",
    "# Create a Tensor to perform an operation (here, y will be equal to x, a 4x4 matrix)\n",
    "y = tf.identity(x)\n",
    "\n",
    "# Print the output, feeding the value of x into the computational graph\n",
    "print(sess.run(y, feed_dict={x: rand_array}))"
   ]
  },
  {
   "cell_type": "markdown",
   "metadata": {},
   "source": [
    "To visualize this in Tensorboard, we merge summaries and write to a log file."
   ]
  },
  {
   "cell_type": "code",
   "execution_count": 22,
   "metadata": {},
   "outputs": [],
   "source": [
    "merged = tf.summary.merge_all()\n",
    "writer = tf.summary.FileWriter(\"/home/hduser/tmp/variable_logs\", sess.graph)"
   ]
  },
  {
   "cell_type": "markdown",
   "metadata": {},
   "source": [
    "We run the following command at the prompt:\n",
    "\n",
    "`tensorboard --logdir=/tmp`\n",
    "\n",
    "Which will tell us where to navigate chrome to to visualize the computational graph.  Default is\n",
    "\n",
    "`http://0.0.0.0:6006/`"
   ]
  },
  {
   "cell_type": "markdown",
   "metadata": {},
   "source": [
    "![Placeholders_in_Tensorboard](https://github.com/nfmcclure/tensorflow_cookbook/raw/master/01_Introduction/images/03_placeholder.png)"
   ]
  }
 ],
 "metadata": {
  "kernelspec": {
   "display_name": "Python 3",
   "language": "python",
   "name": "python3"
  },
  "language_info": {
   "codemirror_mode": {
    "name": "ipython",
    "version": 3
   },
   "file_extension": ".py",
   "mimetype": "text/x-python",
   "name": "python",
   "nbconvert_exporter": "python",
   "pygments_lexer": "ipython3",
   "version": "3.7.3"
  }
 },
 "nbformat": 4,
 "nbformat_minor": 2
}
